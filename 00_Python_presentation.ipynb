{
 "cells": [
  {
   "cell_type": "markdown",
   "metadata": {},
   "source": [
    "## PYTHON ![icone python](https://upload.wikimedia.org/wikipedia/commons/0/0a/Python.svg)\n",
    "\n",
    "Python est un **langage de programmation** créé au début des années 90. C'est un langage très utilisé aujourd'hui dans les ordinateurs comme dans les objets connectés.\n",
    "C'est aussi le langage utilisé au lycée dans de nombreuses disciplines tout au long du lycée (mathématiques, Numérique et Sciences Informatiques, physique, SVT, enseignement scientifique)."
   ]
  },
  {
   "cell_type": "markdown",
   "metadata": {},
   "source": [
    "#  Comment travailler avec un notebook Jupyter (ce document) ?\n",
    "Un notebook jupyter est composé de cellules : \n",
    "- certaines sont des cellules de texte (comme celle-ci, par exemple)\n",
    "- d'autres sont des cellules de code, où on écrit du langage python : on les reconnaît car il est écrit *Entrée [ ]* devant.\n",
    "\n",
    "\n",
    "On peut écrire dans chacune d'elle. Pour valider une cellule (**indispensable pour exécuter un programme python**), on peut soit utiliser le raccourci clavier Ctrl+Entrée, soit cliquer sur le bouton Exécuter. On peut exécuter plusieurs fois la cellule, si on a corrigé ou modifié un programme par exemple.\n",
    "\n",
    "\n",
    "**remarque :** dans un programme python, on peut utiliser le symbole # devant une ligne : cette ligne devient alors un commentaire, elle n'est pas exécutée par Python. \n",
    "\n",
    "\n",
    "Une fois le travail terminé, vous allez le télécharger pour ensuite l'envoyer au professeur.\n",
    "Pour cela, allez dans Fichier, Télécharger au format, puis HTML (.html)\n",
    "\n",
    "Le document téléchargé sera lisible par un navigateur internet, mais ne pourra pas être modifié."
   ]
  },
  {
   "cell_type": "markdown",
   "metadata": {},
   "source": [
    "# Que peut-on faire avec Python ?\n",
    "Python est un langage très riche qui permet de faire des calculs, du traitement de données, des images, de faire du graphisme...\n",
    "Ces possibilités sont élargies avec des **bibliothèques** : ce sont des programmes python qui contiennent des fonctions supplémentaires.\n",
    "## Faire des calculs\n",
    "Voici une liste non complète de calculs que Python sait exécuter :\n",
    "- Somme: + ex : `3+5`\n",
    "- Différence: - ex : `3-5` \n",
    "- Produit: *  ex : `2.34*2.4`\n",
    "- Quotient: / ex : `34/11` \n",
    "- Quotient division euclidienne: // ex : `34//11`\n",
    "- Reste division euclidienne %   ex `34%1`\n",
    "- Puissance **  ex `3**4`\n",
    "\n",
    "Dans la cellule ci dessous, écris un à un les exemples écrits ci-dessus ou d'autres, puis exécute en cliquant sur \"Exécuter\" ou avec le raccourci Ctrl+Entrée\n",
    "\n"
   ]
  },
  {
   "cell_type": "code",
   "execution_count": null,
   "metadata": {},
   "outputs": [],
   "source": [
    "# Écris ici tes essais de calcul\n",
    "3+5"
   ]
  },
  {
   "cell_type": "markdown",
   "metadata": {},
   "source": [
    "Pour faire des calculs un peu plus complexes (racine carrée, cosinus, ...), il faut aller chercher ces fonctions dans la bibliothèque *math* :"
   ]
  },
  {
   "cell_type": "code",
   "execution_count": null,
   "metadata": {},
   "outputs": [],
   "source": [
    "from math import *\n",
    "sqrt(121)\n"
   ]
  },
  {
   "cell_type": "markdown",
   "metadata": {},
   "source": [
    "## Faire du traitement de données\n",
    "\n",
    "Python permet de faire des opération sur des données brutes ou structurées.\n",
    "Les exemples qui suivent son un peu compliqués pour un début, ils ne sont là que pour vous montrer les possibilités de Python."
   ]
  },
  {
   "cell_type": "code",
   "execution_count": null,
   "metadata": {},
   "outputs": [],
   "source": [
    "phrase=input(\"Écris-moi une phrase : \")\n",
    "nombre_de_a=0\n",
    "for i in range (len(phrase)):\n",
    "    if phrase[i]==\"a\" or phrase[i]==\"A\":\n",
    "        nombre_de_a=nombre_de_a+1\n",
    "print (\"Il y a \",nombre_de_a,\" 'a' dans ta phrase.\")"
   ]
  },
  {
   "cell_type": "code",
   "execution_count": null,
   "metadata": {},
   "outputs": [],
   "source": [
    "Trame=\"$GPGGA,12241.000,2135.3214,N,00740.9373,E,1,04,3.2,200.2,M,,,,0000*32\"\n",
    "Champs=Trame.split(\",\")\n",
    "print(\"Latitude : \", Champs[2], Champs[3])\n",
    "print(\"Longitude : \", Champs[4], Champs[5])"
   ]
  },
  {
   "cell_type": "markdown",
   "metadata": {},
   "source": [
    "# Faire des graphiques\n",
    "Python permet, grâce à des bibliothèques supplémentaires, de tracer des représentations graphiques."
   ]
  },
  {
   "cell_type": "code",
   "execution_count": null,
   "metadata": {},
   "outputs": [],
   "source": [
    "pip install matplotlib"
   ]
  },
  {
   "cell_type": "code",
   "execution_count": null,
   "metadata": {},
   "outputs": [],
   "source": [
    "from matplotlib.pyplot import *\n",
    "\n",
    "axis([-1,22,-1,4])\n",
    "x=[n for n in range (20)]\n",
    "y=[(3*n+1)/(n+4) for n in range(20)]\n",
    "scatter(x,y)\n",
    "grid()\n"
   ]
  },
  {
   "cell_type": "markdown",
   "metadata": {},
   "source": [
    "## Récupérer des données, les traiter et les afficher sur une carte.\n",
    "Ici, on commence à faire des choses plus complexes.\n",
    "Nous allons chercher sur internet un fichier qui recense en temps réel l'ensemble des séismes sur la planète.\n",
    "Puis nous allons les afficher sur une carte."
   ]
  },
  {
   "cell_type": "code",
   "execution_count": null,
   "metadata": {},
   "outputs": [],
   "source": [
    "pip install folium"
   ]
  },
  {
   "cell_type": "code",
   "execution_count": null,
   "metadata": {},
   "outputs": [],
   "source": [
    "###########################################\n",
    "#On importe les bibliothèques nécessaires.#\n",
    "###########################################\n",
    "import folium\n",
    "import csv\n",
    "import requests\n",
    "\n",
    "#########################################\n",
    "# Importation des données au format CSV #\n",
    "#########################################\n",
    "\n",
    "url=\"http://earthquake.usgs.gov/earthquakes/feed/v1.0/summary/4.5_month.csv\"\n",
    "csvfile = requests.get(url)\n",
    "csvfile = csvfile.content.decode('utf-8')\n",
    "#print(csvfile)\n",
    "# si on enlève le # de la ligne précédente, on affiche la liste des séismes.\n",
    "\n",
    "############################################################\n",
    "##              Construction de la carte                  ##\n",
    "############################################################\n",
    "\n",
    "carte_tremblements = folium.Map(location=[30,0], zoom_start=3)\n",
    "tremblements_csv = csv.reader(csvfile.splitlines(), delimiter=',')\n",
    "# pour éviter la ligne d'en têtes.\n",
    "header = next(tremblements_csv)\n",
    "# On lit maintenant chaque ligne  du fichier csv téléchargé\n",
    "for ligne in tremblements_csv :\n",
    "  latitude = float(ligne[1])\n",
    "  longitude = float(ligne[2])\n",
    "  magnitude = \"Magnitude : \"+ str(ligne[4])\n",
    "  folium.Marker([latitude,longitude],popup = magnitude).add_to(carte_tremblements)\n",
    "  \n",
    "display(carte_tremblements)\n"
   ]
  }
 ],
 "metadata": {
  "kernelspec": {
   "display_name": "Python 3",
   "language": "python",
   "name": "python3"
  },
  "language_info": {
   "codemirror_mode": {
    "name": "ipython",
    "version": 3
   },
   "file_extension": ".py",
   "mimetype": "text/x-python",
   "name": "python",
   "nbconvert_exporter": "python",
   "pygments_lexer": "ipython3",
   "version": "3.7.3"
  }
 },
 "nbformat": 4,
 "nbformat_minor": 2
}
