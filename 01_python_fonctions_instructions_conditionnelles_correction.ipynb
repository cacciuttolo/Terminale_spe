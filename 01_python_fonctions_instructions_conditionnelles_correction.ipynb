{
 "cells": [
  {
   "cell_type": "markdown",
   "metadata": {},
   "source": [
    "## PYTHON RAPPELS ![icone python](https://upload.wikimedia.org/wikipedia/commons/0/0a/Python.svg)"
   ]
  },
  {
   "cell_type": "markdown",
   "metadata": {},
   "source": [
    "#  Comment travailler avec un notebook Jupiter (ce document) ?\n",
    "Un notebook jupyter est composé de cellules : \n",
    "- certaines sont des cellules de texte (comme celle-ci, par exemple)\n",
    "- d'autres sont des cellules de code, où on écrit du langage python : on les reconnaît car il est écrit *Entrée [ ]* devant.\n",
    "\n",
    "\n",
    "On peut écrire dans chacune d'elle. Pour valider une cellule (**indispensable pour exécuter un programme python**), on peut soit utiliser le raccourci clavier Ctrl+Entrée, soit cliquer sur le bouton Exécuter. On peut exécuter plusieurs fois la cellule, si on a corrigé ou modifié un programme par exemple.\n",
    "\n",
    "\n",
    "**remarque :** dans un programme python, on peut utiliser le symbole # devant une ligne : cette ligne devient alors un commentaire, elle n'est pas exécutée par Python. \n",
    "\n",
    "#Comment rendre le travail au professeur ?\n",
    "\n",
    "Une fois le travail terminé, vous allez le télécharger pour ensuite l'envoyer au professeur.\n",
    "Pour cela, allez dans Files, puis Download as, et choisir le format HTML(.html)\n",
    "\n",
    "Le document téléchargé sera lisible par un navigateur internet, mais ne pourra pas être modifié.\n",
    "\n",
    "Si vous préférez travailler hors ligne sur ce notebook, vous pouvez le télécharger au format Notebook (.ipynb). Pour pouvoir l'ouvrir et travailler dessus, il vous faudra installer un logiciel compatible avec les notebbok Jupyter (par exemple le logiciel libre et gratuit Spyder/Anaconda).\n",
    "\n",
    "**remarque importante :** si vous restez très longtemps sur le fichier en ligne, le \"noyau\" de Python risque d'être désactivé. On peut soit le relancer à l'aide de la flèche arrondie (à droite du bouton \"Exécuter\"), soit en cliquant sur le bouton \"Non fiable\" afin de rendre le fichier fiable."
   ]
  },
  {
   "cell_type": "markdown",
   "metadata": {},
   "source": [
    "# I. Notion de fonction\n",
    "En python, on utilise souvent la notion de fonction qui permet de concevoir ses propres outils de calcul afin de ne pas répéter plusieurs fois les mêmes séquences de calcul.\n",
    "Nous allons par exemple calculer la norme d'un vecteur $\\vec{u}$ connaissant ses coordonnées $(x,y)$ dans un repère orthonormé du plan.\n",
    "Pour rappel (mathématique) : $\\|\\vec{u}\\|=\\sqrt{x^2+y^2}$\n",
    "\n",
    "Une fonction est toujours composée des éléments suivant : \n",
    "- de l'instruction *def*  qui permet d'indiquer que l'on définit une fonction.\n",
    "- du nom de la fonction, ici *norme*\n",
    "- des variables utilisées entre parenthèses, ici *(x,y)*. S'il n'y a pas de variable, on écrit quand même les parenthèses vides *()*\n",
    "- de deux points après les parenthèses *:* indiquant que l'on va commencer à écrire la définition\n",
    "- du corps de la fonction qui est **indenté** : il est décalé horizontalement\n",
    "- de l'instruction *return* qui permet de \"renvoyer\" le résultat (parfois non obligatoire, mais pas cette année).\n",
    "\n",
    "Voici ce que cela donne dans notre cas : "
   ]
  },
  {
   "cell_type": "code",
   "execution_count": 1,
   "metadata": {},
   "outputs": [
    {
     "data": {
      "text/plain": [
       "5.0"
      ]
     },
     "execution_count": 1,
     "metadata": {},
     "output_type": "execute_result"
    }
   ],
   "source": [
    "from math import sqrt #Cette ligne indique à Python qu'il doit \"charger dans \n",
    "                      #sa mémoire\" la fonction racine carrée\n",
    "\n",
    "def norme(x,y):              # ceci est donc la ligne qui définit la fonction, avec les paramètres\n",
    "    return (sqrt(x**2+y**2)) # voici ce que fait et retourne la fonction\n",
    "\n",
    "norme(3,4)                  # on n'est plus dans la fonction (pas d'indentation), \n",
    "                            # ici on exécute celle-ci.\n",
    "\n",
    "\n",
    "# Valide cette cellule pour exécuter le programme : \n",
    "# clique dans la cellule, puis\n",
    "# Ctrl+Entrée, ou clic sur \"Exécuter\""
   ]
  },
  {
   "cell_type": "markdown",
   "metadata": {},
   "source": [
    "Dans la cellule suivante, calcule la norme du vecteur $\\vec{v}(3;6)$"
   ]
  },
  {
   "cell_type": "code",
   "execution_count": 2,
   "metadata": {},
   "outputs": [
    {
     "data": {
      "text/plain": [
       "6.708203932499369"
      ]
     },
     "execution_count": 2,
     "metadata": {},
     "output_type": "execute_result"
    }
   ],
   "source": [
    "#Écris ce que tu veux calculer avec python ici :\n",
    "norme(3,6)"
   ]
  },
  {
   "cell_type": "markdown",
   "metadata": {},
   "source": [
    "Ce vecteur a-t-il la même norme que $\\vec{w}(-4;5)$ ?"
   ]
  },
  {
   "cell_type": "code",
   "execution_count": 3,
   "metadata": {},
   "outputs": [
    {
     "data": {
      "text/plain": [
       "6.4031242374328485"
      ]
     },
     "execution_count": 3,
     "metadata": {},
     "output_type": "execute_result"
    }
   ],
   "source": [
    "#Écris ce que tu veux calculer avec python ici :\n",
    "norme(-4,5)"
   ]
  },
  {
   "cell_type": "markdown",
   "metadata": {},
   "source": [
    "réponse : **Non, ces deux vecteurs n'ont pas la même norme.**"
   ]
  },
  {
   "cell_type": "markdown",
   "metadata": {},
   "source": [
    "## exercice 1.\n",
    "On veut construire une fonction *moyenne* qui calcule la moyenne de quatre notes. Cette fonction aura en entrées les paramètres n1,n2,n3 et n4.\n",
    "Par exemple, moyenne(10,11,12,13) doit renvoyer le résultat 11.5"
   ]
  },
  {
   "cell_type": "code",
   "execution_count": 4,
   "metadata": {},
   "outputs": [
    {
     "data": {
      "text/plain": [
       "11.5"
      ]
     },
     "execution_count": 4,
     "metadata": {},
     "output_type": "execute_result"
    }
   ],
   "source": [
    "# exercice 1\n",
    "def moyenne(n1,n2,n3,n4):\n",
    "    return((n1+n2+n3+n4)/4)\n",
    "\n",
    "moyenne(10,11,12,13)"
   ]
  },
  {
   "cell_type": "markdown",
   "metadata": {},
   "source": [
    "# II. instruction conditionnelle si... alors ... sinon\n",
    "Une instruction conditionnelle est une instruction qui dépend d’une condition. Certaines parties du code sont exécutées ou ignorées selon que la condition est vérifiée ou non.\n",
    "On l'écrit ainsi : \n",
    "- *if* est suivi de la condition, puis de deux points\n",
    "- on écrit en dessous (avec une indentation) les instructions à faire si la condition est vérifiée\n",
    "- on écrit ensuite (ce n'est pas obligatoire) *else* suivi de deux points \n",
    "- puis en dessous les instructions (avec une indentation) à faire si la condition n'est pas vérifiée.\n",
    "\n",
    "On peut bien sûr écrire une ou des instructions conditionnelles dans une fonction.\n",
    "\n",
    "Voici les symboles de comparaison pour la condition\n",
    "- $==$ : teste si deux valeurs sont égales.\n",
    "- $!=$ : teste si deux valeurs sont différentes.\n",
    "- $>$  : teste si la première valeur est strictement supérieure à la deuxième.\n",
    "- $>=$ : teste si la première valeur est supérieure ou égale à la deuxième.\n",
    "- $<$  : teste si la première valeur est strictement inférieure à la deuxième.\n",
    "- $<=$ : teste si la première valeur est inférieure ou égale à la deuxième.\n",
    "\n",
    "\n",
    "**remarque** : on peut écrire plusieurs conditions en écrivant *or* ou *and* entre chacune, selon ce que l'on veut..\n",
    "\n",
    "Étudie le programme ci-dessous, essaie de comprendre comment il fonctionne et essaie de lancer la fonction resultat_bac avec difféentes notes."
   ]
  },
  {
   "cell_type": "code",
   "execution_count": 5,
   "metadata": {},
   "outputs": [
    {
     "name": "stdout",
     "output_type": "stream",
     "text": [
      "j'ai mon bac\n",
      "je vais faire la fête\n"
     ]
    }
   ],
   "source": [
    "def resultat_bac(note):\n",
    "    if note >=10:\n",
    "        print(\"j'ai mon bac\")\n",
    "        print(\"je vais faire la fête\")\n",
    "    else:\n",
    "        print(\"Snif\")\n",
    "        print(\"à l'année prochaine\")\n",
    "        \n",
    "resultat_bac(12)"
   ]
  },
  {
   "cell_type": "markdown",
   "metadata": {},
   "source": [
    "## exercice 2.\n",
    "Dans un repère orthonormé du plan, on considère les vecteurs $\\vec{u}(xu,yu)$ et $\\vec{u}(xv,yv)$\n",
    "Construis la fonction test_colinearite(xu,yu,xv,yv) qui renvoie \"oui\" si les vecteurs sont colinéaires, et \"non\" sinon."
   ]
  },
  {
   "cell_type": "code",
   "execution_count": 6,
   "metadata": {},
   "outputs": [
    {
     "name": "stdout",
     "output_type": "stream",
     "text": [
      "Oui\n",
      "Non\n"
     ]
    }
   ],
   "source": [
    "# exercice 2 \n",
    "def test_colinearite(xu,yu,xv,yv):\n",
    "    if xu*yv-yu*xv==0:\n",
    "        print(\"Oui\")\n",
    "    else:\n",
    "        print(\"Non\")\n",
    "test_colinearite(1,5,10,50)\n",
    "test_colinearite(1,2,1,-3)"
   ]
  },
  {
   "cell_type": "markdown",
   "metadata": {},
   "source": [
    "# III.Défis\n",
    "## défi 1 : *\n",
    "Écris une fonction *mention_bac* ayant pour paramètre note et qui affiche en retour : \n",
    "\"refusé\" si la note est strictement inférieure à 8, \"passe l'oral du second groupe\" si la note est supérieure ou égale à 8 et strictement inférieure à 10, \"admis\" si la note supérieure ou égale à 10 et strictement inférieure à 12,\"admis mention Assez Bien\" si la note supérieure ou égale à 12 et strictement inférieure à 14, \"admis mention Bien\" si la note supérieure ou égale à 14 et strictement inférieure à 16, \"admis mention Très Bien \" si la note supérieure ou égale à 16.   "
   ]
  },
  {
   "cell_type": "code",
   "execution_count": 7,
   "metadata": {},
   "outputs": [],
   "source": [
    "# Défi 1\n",
    "def mention_bac(note):\n",
    "    if note<8:\n",
    "        print(\"refusé\")\n",
    "    if note>=8 and note<10:\n",
    "        print(\"passe l'oral du second groupe\")\n",
    "    if note>=10 and note<12:\n",
    "        print(\"admis\")\n",
    "    if note>=12 and note<14:\n",
    "        print(\"admis mention Assez Bien\")\n",
    "    if note>=14 and note<16:\n",
    "        print(\"admis mention Bien\")\n",
    "    if note>16:\n",
    "        print(\"admis mention Très Bien\")"
   ]
  },
  {
   "cell_type": "code",
   "execution_count": 8,
   "metadata": {},
   "outputs": [
    {
     "name": "stdout",
     "output_type": "stream",
     "text": [
      "passe l'oral du second groupe\n"
     ]
    }
   ],
   "source": [
    "#tests\n",
    "mention_bac(9)"
   ]
  },
  {
   "cell_type": "markdown",
   "metadata": {},
   "source": [
    "**remarque** : on peut utiliser moins de tests en utilisant des instructions conditionnelles \"imbriquées\" : cela permet de gagner du temps lors de l'exécution du programme."
   ]
  },
  {
   "cell_type": "code",
   "execution_count": 10,
   "metadata": {},
   "outputs": [],
   "source": [
    "def mention_bac2(note):\n",
    "    if note<8:\n",
    "        print(\"refusé\")\n",
    "    else :\n",
    "        if note<10:\n",
    "            print(\"passe l'oral du second groupe\")\n",
    "        else : \n",
    "            if note<12:\n",
    "                print(\"admis\")\n",
    "            else:\n",
    "                if note<14:\n",
    "                    print(\"admis mention Assez Bien\")\n",
    "                else:\n",
    "                    if note<16:\n",
    "                        print(\"admis mention Bien\")\n",
    "                    else:\n",
    "                        print(\"admis mention Très Bien\")"
   ]
  },
  {
   "cell_type": "code",
   "execution_count": 11,
   "metadata": {},
   "outputs": [
    {
     "name": "stdout",
     "output_type": "stream",
     "text": [
      "admis mention Très Bien\n"
     ]
    }
   ],
   "source": [
    "mention_bac2(19)"
   ]
  },
  {
   "cell_type": "markdown",
   "metadata": {},
   "source": [
    "## défi 2 : **\n",
    "Même consigne, mais la fonction doit aussi afficher \"Ce n'est pas possible\" si la note est strictement inférieure à 0 ou strictement supérieure à 20."
   ]
  },
  {
   "cell_type": "code",
   "execution_count": 12,
   "metadata": {},
   "outputs": [],
   "source": [
    "# Défi 2\n",
    "def mention_bac(note):\n",
    "    if note<0 or note>20:\n",
    "        print(\"Ce n'est pas possible\")\n",
    "    if note>=0 and note<8:\n",
    "        print(\"refusé\")\n",
    "    if note>=8 and note<10:\n",
    "        print(\"passe l'oral du second groupe\")\n",
    "    if note>=10 and note<12:\n",
    "        print(\"admis\")\n",
    "    if note>=12 and note<14:\n",
    "        print(\"admis mention Assez Bien\")\n",
    "    if note>=14 and note<16:\n",
    "        print(\"admis mention Bien\")\n",
    "    if note>16 and note <=20:\n",
    "        print(\"admis mention Très Bien\")"
   ]
  },
  {
   "cell_type": "code",
   "execution_count": 13,
   "metadata": {},
   "outputs": [
    {
     "name": "stdout",
     "output_type": "stream",
     "text": [
      "Ce n'est pas possible\n"
     ]
    }
   ],
   "source": [
    "mention_bac(21)"
   ]
  },
  {
   "cell_type": "code",
   "execution_count": 14,
   "metadata": {},
   "outputs": [],
   "source": [
    "#seconde version : \n",
    "def mention_bac2(note):\n",
    "    if note<0 or note>20:\n",
    "        print(\"Ce n'est pas possible\")\n",
    "    else:\n",
    "        if note<8:\n",
    "            print(\"refusé\")\n",
    "        else :\n",
    "            if note<10:\n",
    "                print(\"passe l'oral du second groupe\")\n",
    "            else : \n",
    "                if note<12:\n",
    "                    print(\"admis\")\n",
    "                else:\n",
    "                    if note<14:\n",
    "                        print(\"admis mention Assez Bien\")\n",
    "                    else:\n",
    "                        if note<16:\n",
    "                            print(\"admis mention Bien\")\n",
    "                        else:\n",
    "                            print(\"admis mention Très Bien\")"
   ]
  },
  {
   "cell_type": "code",
   "execution_count": 15,
   "metadata": {},
   "outputs": [
    {
     "name": "stdout",
     "output_type": "stream",
     "text": [
      "Ce n'est pas possible\n"
     ]
    }
   ],
   "source": [
    "mention_bac2(-1)"
   ]
  },
  {
   "cell_type": "markdown",
   "metadata": {},
   "source": [
    "## défi 3 : ***\n",
    "Même consigne que le défi 1, mais si la note n'est pas correcte (cf défi2), l'ordinateur demande de rentrer une nouvelle note tant que la note entrée est incorrecte.\n",
    "\n",
    "*Ce défi nécessite d'utiliser une boucle. Si vous ne l'avez jamais vu, pas de panique, nous le ferons très bientôt.*"
   ]
  },
  {
   "cell_type": "code",
   "execution_count": 16,
   "metadata": {},
   "outputs": [],
   "source": [
    "# Défi 3\n",
    "def mention_bac(note):\n",
    "    while note<0 or note>20:\n",
    "        print(\"Ce n'est pas possible\")\n",
    "        note=float(input(\"Entrez une note correcte :\"))\n",
    "    if note>=0 and note<8:\n",
    "        print(\"refusé\")\n",
    "    if note>=8 and note<10:\n",
    "        print(\"passe l'oral du second groupe\")\n",
    "    if note>=10 and note<12:\n",
    "        print(\"admis\")\n",
    "    if note>=12 and note<14:\n",
    "        print(\"admis mention Assez Bien\")\n",
    "    if note>=14 and note<16:\n",
    "        print(\"admis mention Bien\")\n",
    "    if note>16 and note <=20:\n",
    "        print(\"admis mention Très Bien\")"
   ]
  },
  {
   "cell_type": "code",
   "execution_count": 17,
   "metadata": {},
   "outputs": [
    {
     "name": "stdout",
     "output_type": "stream",
     "text": [
      "Ce n'est pas possible\n",
      "Entrez une note correcte :110\n",
      "Ce n'est pas possible\n",
      "Entrez une note correcte :-12\n",
      "Ce n'est pas possible\n",
      "Entrez une note correcte :21\n",
      "Ce n'est pas possible\n",
      "Entrez une note correcte :3\n",
      "refusé\n"
     ]
    }
   ],
   "source": [
    "mention_bac(25)"
   ]
  }
 ],
 "metadata": {
  "kernelspec": {
   "display_name": "Python 3",
   "language": "python",
   "name": "python3"
  },
  "language_info": {
   "codemirror_mode": {
    "name": "ipython",
    "version": 3
   },
   "file_extension": ".py",
   "mimetype": "text/x-python",
   "name": "python",
   "nbconvert_exporter": "python",
   "pygments_lexer": "ipython3",
   "version": "3.7.3"
  }
 },
 "nbformat": 4,
 "nbformat_minor": 2
}
